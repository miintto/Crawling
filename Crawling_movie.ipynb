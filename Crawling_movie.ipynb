{
 "cells": [
  {
   "cell_type": "markdown",
   "metadata": {},
   "source": [
    "# 네이버 영화 평점 Crawling by 민또"
   ]
  },
  {
   "cell_type": "markdown",
   "metadata": {},
   "source": [
    "### 기본적인 구조 파악"
   ]
  },
  {
   "cell_type": "code",
   "execution_count": 1,
   "metadata": {},
   "outputs": [],
   "source": [
    "from bs4 import BeautifulSoup   ### 필요한 패키지 로드\n",
    "import urllib.request as req\n",
    "import math"
   ]
  },
  {
   "cell_type": "code",
   "execution_count": 2,
   "metadata": {},
   "outputs": [
    {
     "name": "stdout",
     "output_type": "stream",
     "text": [
      "<http.client.HTTPResponse object at 0x7f4acff74898>\n"
     ]
    }
   ],
   "source": [
    "url1 = 'https://movie.naver.com/movie/bi/mi/pointWriteFormList.nhn?code='\n",
    "num = 85579   ### 영화 고유 번호\n",
    "url2 = '&type=after&isActualPointWriteExecute=false&isMileageSubscriptionAlready=false&isMileageSubscriptionReject=false&page='\n",
    "page = 1   ### 페이지 번호 (한 페이지당 평점 10개)\n",
    "\n",
    "response = req.urlopen(url1+str(num)+url2+str(page))\n",
    "print(response)"
   ]
  },
  {
   "cell_type": "code",
   "execution_count": 3,
   "metadata": {
    "scrolled": true
   },
   "outputs": [],
   "source": [
    "soup = BeautifulSoup(response, 'html.parser')   # 소스 파싱\n",
    "score_result = soup.find('div', class_ = 'score_result')   # 리뷰와 평점이 있는 부분만 자르기\n",
    "lis = score_result.find_all('li')    # li 별로 잘라서 벡터형태로 변경"
   ]
  },
  {
   "cell_type": "code",
   "execution_count": 4,
   "metadata": {
    "scrolled": true
   },
   "outputs": [
    {
     "name": "stdout",
     "output_type": "stream",
     "text": [
      "평점 : 10\n",
      "리뷰 : 관람객이정재가 홍보 따라다닌 이유를 알겠음 ㅋㅋㅋ 그리고 관심병사 연기 도랐다   \n",
      "\n",
      "평점 : 10\n",
      "리뷰 : 관람객나 죽어서 지옥가면 어떡하냐 ㄷㄷㄷ 앞으로 착하게 살아야지   \n",
      "\n",
      "평점 : 10\n",
      "리뷰 : 관람객남자 셋이서 안 울라고…주먹으로 입틀막함 ㅋㅋㅋㅋ   \n",
      "\n",
      "평점 : 10\n",
      "리뷰 : 관람객여보, 이번 겨울에… 부모님댁에 밥솥 놔드려야겠어요   \n",
      "\n",
      "평점 : 10\n",
      "리뷰 : 관람객가족이랑 봤는데… 나… 우리 아빠 우는 거 처음 봤음 ㅜㅜㅜㅜ   \n",
      "\n",
      "평점 : 8\n",
      "리뷰 : 오늘도 열심히 사는 대한민국의 자홍,수홍씨들을 응원합니다 ㅠㅠ   \n",
      "\n",
      "평점 : 10\n",
      "리뷰 : 야 이거 생각한 것 보다 잘 나왔잖아 ?   \n",
      "\n",
      "평점 : 10\n",
      "리뷰 : 오늘 화장 안하고 신과함께를 본 것은 신의한수였음.   \n",
      "\n",
      "평점 : 10\n",
      "리뷰 : 원작팬이에요. 솔직히 기대 내려놓고 봤지만 볼거리, 스토리, 캐릭터 케미 모두 기대 이상이었어요. 이정도 영화 없다고 봅니다. 많이 감동 받았어요   \n",
      "\n",
      "평점 : 10\n",
      "리뷰 : 관람 내내 지옥행 롤러코스터 타고 온 기분이었음 ㅋㅋㅋㅋ   \n",
      "\n"
     ]
    }
   ],
   "source": [
    "### 페이지 한 창의 평점 크롤링\n",
    "\n",
    "for li in lis:  # 각 li 마다 평점과 코멘트 추출\n",
    "    score = li.select_one('div.star_score > em')   ### 평점 추출\n",
    "    reple = li.select_one('div.score_reple > p')   ### 리뷰 추출\n",
    "    if reple.find('span')!=None:\n",
    "        reple.find('span').decompose()   ### 리뷰앞에 붙은 '베스트', '관람객' 제거\n",
    "    print('평점 :',  score.get_text())\n",
    "    print('리뷰 :', reple.get_text(), '\\n')"
   ]
  },
  {
   "cell_type": "markdown",
   "metadata": {},
   "source": [
    "### for 문을 사용하여 페이지와 영화종류를 바꿔가며 출력해보자!"
   ]
  },
  {
   "cell_type": "code",
   "execution_count": 5,
   "metadata": {
    "scrolled": true
   },
   "outputs": [
    {
     "name": "stdout",
     "output_type": "stream",
     "text": [
      "### 7년의 밤 : 네이버 영화 ### \n",
      "\n",
      "1  ,  염력도 피하고 골든슬럼버도 피했는데 이걸 못피함   \n",
      "\n",
      "10  ,  장동건 원래 연기 잘 했죠.. 작품들이 안 좋아서 그렇지   \n",
      "\n",
      "8  ,  배우들의 열연과 몰입도는 좋았지만 2시간 내내 똑같이 하드하기만 해서 힘들었음.. 완급을 주는 시나리오였음 좋았을듯   \n",
      "\n",
      "9  ,  관람객장동건, 류승룡의 연기도 좋았지만 난 송새벽에게 한표 주고 싶음. 제 3자로써 이 이야기를 가장 많이 알고 있는 인물이었기 때문에 더 연기하기가 힘들었을텐데 정말 자연스럽게 잘하더라   \n",
      "\n",
      "10  ,  관람객장동건이 연기를 위해 얼굴을 버렸네 그 열정에 박수!!   \n",
      "\n",
      "4  ,  7년의밤이 아나라 2시간의밤임 2시간동안 밤처럼앞이 안보임   \n",
      "\n",
      "9  ,  장동건 연기를 이렇게 잘하나 싶었다   \n",
      "\n",
      "2  ,  무슨 얘기를 하자는 건지 태어나서 처음 평가한다 답답해서   \n",
      "\n",
      "10  ,  세령마을 싱크 최고였어요ㅠ분위기와 배우들 연기로 압도   \n",
      "\n",
      "10  ,  연기 몰입감 최고네 ㅎㄷㄷ;;   \n",
      "\n",
      "9  ,  소설은 읽지 않았지만  연기 출연진 굿   \n",
      "\n",
      "1  ,  7년 같았던 2시간..   \n",
      "\n",
      "10  ,  조금 아쉽지만, 소설과 영화라는 매체의 차이를 고려했을때 나쁘지않은 각색이라고 생각합니다. 배우들의 묵직한 열연이 좋았어요!   \n",
      "\n",
      "8  ,  장동건...연기 소름 오래전 읽었던 정유정 작가의 책을 다시금 펼쳐 읽어야겠다   \n",
      "\n",
      "8  ,  책으로보고기대했는데 생각보다 긴장감도 있고재밌었습니다.   \n",
      "\n",
      "10  ,  스릴러 드라마 장르만의  긴장감, 몰입감 굿   \n",
      "\n",
      "10  ,  이래서 가정교육이 중요함..   \n",
      "\n",
      "10  ,  상상했던 원작 느낌 그대로!!!   \n",
      "\n",
      "10  ,  장동건 너무 연기 잘함~ 그동안 얼굴에 가린 연기력이 제대로 나오는 영화   \n",
      "\n",
      "8  ,  사람이 그냥 악해지는게 아님~ 다 이유가 있는법   \n",
      "\n",
      "10  ,  장동건.류승룡 연기 짱이고 내용도 괜찮고요   \n",
      "\n",
      "10  ,  연기력 대박이네요 역시 배우들 클래스   \n",
      "\n",
      "3  ,  오영제 부인은 결국뭐죠? 류승룡 부인은 댐에 쓸려 그냥죽었나요? 뭔 이런내용의 영화를만들수있는지.. 뭘말하자는건지 모르겠네요 아들을 지키기위해 마을사람들을 죽일수밖에 없었던 가장의 부성애? 그나마 장동건 류승룡 연기때문에 3점 드립니다   \n",
      "\n",
      "8  ,  7년의 밤 소설을 너무 재미있게 읽어서 그런지 내가 생각한 만큼의 재미는 아니였지만, 그래도 영화의 디테일이 있고 배우들의 연기력이 뛰어난 거 같다. 나름 재밌게 본 영화!   \n",
      "\n",
      "10  ,  캬 책도 재밌고 영화도 재밌었음!!   \n",
      "\n",
      "1  ,  공부하다가 머리도 식힐겸 오랜만에 영화 봤는데 정말 공부가 영화보다 재밌다는 것을 처음 깨달았습니다.   \n",
      "\n",
      "10  ,  그래도 원작대비 잘 만들었네요   \n",
      "\n",
      "10  ,  책으로 볼때 떠올린 분위기를 너무 잘 살려서 놀랬다. 영화 보는 내내 진짜 잘 만들었다 생각함.  그리고 송새벽의 이미지가 완전 달라서 또 놀람! ㅎ   \n",
      "\n",
      "8  ,  누가 피해자이고 누가 가해자인지   \n",
      "\n",
      "10  ,  장동건이 결혼하고나서 더 연기 스펙트럼이 넓어지는 것 같다   \n",
      "\n",
      "### 레디 플레이어 원 : 네이버 영화 ### \n",
      "\n",
      "10  ,  스필버그 감독의 작품을 왜 좋아했는지 다시 깨닫게 되는 수작   \n",
      "\n",
      "10  ,  최근 잠시 잊어버렸었지만 스티븐 스필버그는 역시 오락영화 감독이라는 걸 보여준 건재한 한방!   \n",
      "\n",
      "10  ,  꿈티븐 꿈필버그. ㄷㄷ   \n",
      "\n",
      "9  ,  상식대로라면 세월은 사람을 쇠퇴시키지만 어찌된 것인지 스필버그라는 거장은 나이가 들수록 익어간다 그 비결이 무엇인지 궁금할 따름이다   \n",
      "\n",
      "10  ,  스필버그가 아날로그에 선사하는 걸작.   \n",
      "\n",
      "10  ,  미쳤다. 진짜 미쳤다. 아는 케릭터 나올때마다 소름이 돋았다. 특히나 건담이 하늘에서 등장할때  레알로 지릴뻔했다. 등줄기에서부터 쫘르륵 소름이.... 오랜만에 여러번 소름돋게 만든 영화 오지고 지리고 개쩜 팬티 많이 챙겨가셈.   \n",
      "\n",
      "5  ,  이모 죽을 때도 안울던놈이...   \n",
      "\n",
      "10  ,  방금 조조로 혼자 보고 왔음. 이건 개미친 영화다 인간머리에서 이런 상상이 되나? 상상을 했다고 치자! 역대 최대급 영화임. 꼭 봐야함. 솔직히 말해서 영화 리뷰 첨 달아본다!!!! 꼭 영화관에서 보시길 나중에 티비서 보면서 후회 하지 말고!!!   \n",
      "\n",
      "10  ,  야스오 나오면 천만각인데... 그래도 진짜명작이네요   \n",
      "\n",
      "10  ,  꿈에서 봤는데 꿈같았습니다. 최고의 영화네요   \n",
      "\n",
      "10  ,  이 영화를 보고 확실해진 것이 하나 있다. 10점이 알바일까 1점이 알바일까 헷갈릴때가 많았는데 1점이 알바 확실함 어떻데 이렄 개개개명작에 1점을 때리지? 알바가 아니라면 박약 내지 소시오패스라야 가능한 일   \n",
      "\n",
      "10  ,  스필버그가 어른들에게 주는 선물   \n",
      "\n",
      "10  ,  그저 갓... 그자체.... 내 이름 검색해라 알바아니다...   \n",
      "\n",
      "10  ,  진짜 꼭 보세요...영상의 혁명입니다   \n",
      "\n",
      "10  ,  올해 최고의 영화중 하나로 손꼽히지 않을까 감히 예상해봅니다.   \n",
      "\n",
      "10  ,  8타임 봄 한마디만함 wow   \n",
      "\n",
      "10  ,  믿고보는 스티븐 스틸버그   \n",
      "\n",
      "10  ,  스필버그 감독의 연출은 어디까지인가? 만드는 영화마다 대단하다..   \n",
      "\n",
      "10  ,  “오레와 간다무니 이쿠”   \n",
      "\n",
      "10  ,  스티븐스필버그 역시 대단하다   \n",
      "\n",
      "10  ,  퍼스트건담 최고 ㅎㅎㅎㅎ   \n",
      "\n",
      "10  ,  한때 꿈을 꿨었던 사람들과 꿈을 꾸고 있는 사람들에게 주는 최고의 선물. 고마워요, 스필버그 감독님.   \n",
      "\n",
      "8  ,  흠... 솔까 초반 20분은 충격이었는데 그뒤로는 점점 유치해지드라. 그래도 그래픽은 ㄹㅇ 혁명인듯.   \n",
      "\n",
      "10  ,  이런장르 안좋아해서 별로일줄 알ㅇㅆ는데 너무 재밌었습니다 ㅠㅠㅠㅠ 꿈꾸고 온거같고 또 보고싶네요   \n",
      "\n",
      "10  ,  아이맥스 또는 4D로 보세요!   \n",
      "\n",
      "10  ,  10점 만점에 10점!!! 믿고본다ㅋㅋ 쥬라기 팬으로써 티라노X스필버그 찡해   \n",
      "\n",
      "9  ,  IOI가 한국인을 고용했다면 에그따위 5일이면 충분했을것..   \n",
      "\n",
      "10  ,  아이오아이 재결합하게 해주세요   \n",
      "\n",
      "10  ,  왜 스티븐 스필버그인가에 대한 대답   \n",
      "\n",
      "10  ,  그냥 대충 쥬라기 시리즈로 사골이 나올때까지 울궈먹어도 팬티 갈아입으면서 볼텐데, 레디플레이어원. 이 형님은 매영화 마다 시대를 앞서 관객에게 질문을 던져버리니 준비해간 기저귀가 소용이 없다. 영화 끝나고 나올때 소변줄 꽂고 나왔다. 그래 쌌다.   \n",
      "\n"
     ]
    }
   ],
   "source": [
    "url1 = 'https://movie.naver.com/movie/bi/mi/pointWriteFormList.nhn?code='\n",
    "movies = [85578, 136898]   ### 일단 두개의 영화만 돌릴거임~\n",
    "url2 = '&type=after&isActualPointWriteExecute=false&isMileageSubscriptionAlready=false&isMileageSubscriptionReject=false&page='\n",
    "\n",
    "\n",
    "for i in movies:\n",
    "    num = i\n",
    "    response = req.urlopen('https://movie.naver.com/movie/bi/mi/point.nhn?code='+str(num))   ### 영화제목\n",
    "    soup = BeautifulSoup(response, 'html.parser')   ### 소스 파싱\n",
    "    title =  soup.select_one('title').string   ### 영화 제목 추출(근데 봐서 이건 빼도 될듯...)\n",
    "    print('###', title, '###', '\\n')   ### 젤 첨에 영화 제목 출력\n",
    "    \n",
    "    for j in range(1, 4):   ### 1페이지부터 3페이지까지 돌림\n",
    "        page = j\n",
    "        response = req.urlopen(url1+str(num)+url2+str(page))\n",
    "        soup = BeautifulSoup(response, 'html.parser')\n",
    "        score_result = soup.find('div', class_ = 'score_result')\n",
    "        lis = score_result.find_all('li')   # 리뷰가 담겨있는 각 마디를 잘라 벡터화\n",
    "        \n",
    "        for li in lis:\n",
    "            score = li.select_one('div.star_score > em')\n",
    "            reple = li.select_one('div.score_reple > p')\n",
    "            if reple.find('span')!=None:\n",
    "                reple.find('span').decompose()\n",
    "            print(score.get_text(), ' , ', reple.get_text(), '\\n')   ### 평점, 리뷰 출력"
   ]
  },
  {
   "cell_type": "markdown",
   "metadata": {},
   "source": [
    "### 이제 크롤링한 내용을 텍스트파일로 내보내보자!"
   ]
  },
  {
   "cell_type": "code",
   "execution_count": 13,
   "metadata": {},
   "outputs": [],
   "source": [
    "url1 = 'https://movie.naver.com/movie/bi/mi/pointWriteFormList.nhn?code='\n",
    "movies = [85578, 85579, 99354, 123519, 125494, 134963, 136898, 137008, 137326, 144379, 151728, 153620, 154449, 154598, 158626, 158885, 161242, 165026, 168298, 172454]\n",
    "### 7년의 밤, 신과함께, 지슬, 아가씨, 퍼시빅림, 라라랜드, 레디플레이어원, 리얼, 블랙팬서, 러빙빈센트, \n",
    "### 코코, 치인트, 리틀포레스트, 그레이50, 셰잎옾워터, 콜미바이유어네임, 범죄도시, 사라진밤, 지금만나러갑니다, 곤지암\n",
    "url2 = '&type=after&isActualPointWriteExecute=false&isMileageSubscriptionAlready=false&isMileageSubscriptionReject=false&page='\n",
    "\n",
    "\n",
    "for i in movies:\n",
    "    f = open('Movie_'+str(i)+'.txt', 'w')   ### 영화 한개 마다 txt 파일로 저장\n",
    "    num = i\n",
    "    response = req.urlopen('https://movie.naver.com/movie/bi/mi/point.nhn?code='+str(num))\n",
    "    soup = BeautifulSoup(response, 'html.parser')\n",
    "    title = soup.select_one('title').string\n",
    "    f.write('### '+title+' ###'+'\\n\\n')   ### 영화 제목 출력\n",
    "    \n",
    "    response = req.urlopen(url1+str(num)+url2+'1')   ### 댓글창 개수를 뽑아내보자\n",
    "    soup = BeautifulSoup(response, 'html.parser')    ### 소스 파싱\n",
    "    score_total = soup.find('div', class_ = 'score_total')    ### 평점 개수 나타난 곳 추출\n",
    "    limit = score_total.find_all('em')[1]   ### 평점 개수 추출\n",
    "    page_limit = int(limit.string.replace(',', ''))/10   ### 숫자형식으로 바꿔서 10으로 나눠줌\n",
    "    page_limit = math.ceil(page_limit)   ### 소숫점 올림\n",
    "\n",
    "    for j in range(1, page_limit):\n",
    "        page = j\n",
    "        response = req.urlopen(url1+str(num)+url2+str(page))\n",
    "        soup = BeautifulSoup(response, 'html.parser')\n",
    "        score_result = soup.find('div', class_ = 'score_result')\n",
    "        lis = score_result.find_all('li')   # 리뷰가 담겨있는 각 마디를 잘라 벡터화\n",
    "        \n",
    "        for li in lis:\n",
    "            score = li.select_one('div.star_score > em')\n",
    "            reple = li.select_one('div.score_reple > p')\n",
    "            if reple.find('span')!=None:\n",
    "                reple.find('span').decompose()\n",
    "            f.write(score.get_text()+' , '+reple.get_text()+'\\n')   ### 평점, 리뷰 출력\n",
    "    f.close   ### 텍스트 입력 종료"
   ]
  },
  {
   "cell_type": "markdown",
   "metadata": {},
   "source": [
    "### 대략 2시간동안 22만개 출력  (1분에 2000개 꼴..)"
   ]
  },
  {
   "cell_type": "code",
   "execution_count": null,
   "metadata": {},
   "outputs": [],
   "source": []
  }
 ],
 "metadata": {
  "kernelspec": {
   "display_name": "Python 3",
   "language": "python",
   "name": "python3"
  },
  "language_info": {
   "codemirror_mode": {
    "name": "ipython",
    "version": 3
   },
   "file_extension": ".py",
   "mimetype": "text/x-python",
   "name": "python",
   "nbconvert_exporter": "python",
   "pygments_lexer": "ipython3",
   "version": "3.6.4"
  }
 },
 "nbformat": 4,
 "nbformat_minor": 2
}
