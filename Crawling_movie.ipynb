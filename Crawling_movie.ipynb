{
 "cells": [
  {
   "cell_type": "markdown",
   "metadata": {},
   "source": [
    "# 네이버 영화 평점 Crawling by 민또"
   ]
  },
  {
   "cell_type": "markdown",
   "metadata": {},
   "source": [
    "### 기본적인 구조 파악"
   ]
  },
  {
   "cell_type": "code",
   "execution_count": 1,
   "metadata": {},
   "outputs": [],
   "source": [
    "from bs4 import BeautifulSoup\n",
    "import urllib.request as req\n",
    "import math"
   ]
  },
  {
   "cell_type": "code",
   "execution_count": 2,
   "metadata": {},
   "outputs": [
    {
     "name": "stdout",
     "output_type": "stream",
     "text": [
      "<http.client.HTTPResponse object at 0x7fd4f815f518>\n"
     ]
    }
   ],
   "source": [
    "url1 = 'https://movie.naver.com/movie/bi/mi/pointWriteFormList.nhn?code='\n",
    "num = 158885   ### 얘를 바꿔주면 댐\n",
    "url2 = '&type=after&isActualPointWriteExecute=false&isMileageSubscriptionAlready=false&isMileageSubscriptionReject=false&page='\n",
    "page = 1   ### 한 페이지당 평점 10개\n",
    "\n",
    "response = req.urlopen(url1+str(num)+url2+str(page))\n",
    "print(response)"
   ]
  },
  {
   "cell_type": "code",
   "execution_count": 5,
   "metadata": {},
   "outputs": [],
   "source": [
    "soup = BeautifulSoup(response, 'html.parser')   # 소스 파싱\n",
    "score_result = soup.find('div', class_ = 'score_result')   # 리뷰와 평점이 있는 부분만 자르기\n",
    "lis = score_result.find_all('li')    # li 별로 잘라서 벡터형태로 변경"
   ]
  },
  {
   "cell_type": "code",
   "execution_count": null,
   "metadata": {},
   "outputs": [],
   "source": [
    "print(soup)   ### 페이지 전체 소스"
   ]
  },
  {
   "cell_type": "code",
   "execution_count": null,
   "metadata": {},
   "outputs": [],
   "source": [
    "print(lis[0])   # 여기서 코멘트만 추출해야 함"
   ]
  },
  {
   "cell_type": "code",
   "execution_count": 6,
   "metadata": {
    "scrolled": true
   },
   "outputs": [
    {
     "name": "stdout",
     "output_type": "stream",
     "text": [
      "평점 : 10\n",
      "리뷰 : BEST소년의 첫사랑,  마지막즈음 아버지의 대사가 인상 깊었고    나중에 올리버 시점으로 나왔으면,,   \n",
      "\n",
      "평점 : 10\n",
      "리뷰 : BEST전화 목소리를 잘 분간하지 못하던 소년은 반년만에 들려온 그의 목소리는 단박에 알아듣는다. 오랜만에 인물의 감정 속에 푹 빠져 본 영화였다.   \n",
      "\n",
      "평점 : 10\n",
      "리뷰 : BEST이 영화의 아름다움을 느끼지 영원히 못하고 평점테러중인 호모포비아들이 애잔함   \n",
      "\n",
      "평점 : 9\n",
      "리뷰 : BEST'우린 서른살이 되기 전에 이미 무너져.새로운 사람을 만나도 더이상 보여줄 내가 없어지게 되지.'실제로 저런 조언을 해주는 아버지가 몇이나 될것이며 저런 시선으로 바라봐주는 세상이 존재는 할까.영화가 너무 꿈같아서 눈물겹도록 아름답고 슬프다고해야되나.   \n",
      "\n",
      "평점 : 10\n",
      "리뷰 : BEST첫사랑을 느낄 수 있는 사랑과 아픔을 너무 잘 표현해냈고모든 장면, 모든 대사 하나하나가 너무 아름다웠다6주간의 추억으로 평생을 살아갈 엘리오나는 그 누군가를 이토록 간절히 원한 적 있었던가....   \n",
      "\n",
      "평점 : 10\n",
      "리뷰 : 남자 대 남자가 아닌 사람 대 사람의 첫사랑의 열병. 마지막 엔딩 엘리오의 표정에서 올리버와의 첫만남부터 헤어짐까지의 모든것이 담겨있다.   \n",
      "\n",
      "평점 : 9\n",
      "리뷰 : 추운날 빈좌석 많은 상영관에 홀로앉아 이탈리아로 바캉스 다녀온다 생각하고 보면 좋을 영화. 이 영화가 돋보이는 가장 큰 이유는 가장 완벽한 어른, 가장 불안정한 아이, 그리고 그럴만한 현실이  어우러진  첫사랑 영화라는 점이다.   \n",
      "\n",
      "평점 : 10\n",
      "리뷰 : 아 첫사랑이 첫사랑으로만 끝나야했지만 그것을 간직한 채 평생을 살아갈 엘리오의 마지막 씬 때문에 조조로 영화 보면서 울었네요,,   \n",
      "\n",
      "평점 : 10\n",
      "리뷰 : 관람객Because I wanted you to know   \n",
      "\n",
      "평점 : 10\n",
      "리뷰 : 관람객첫사랑의 기억을 통째로 소환한다  안흔들리고 못배길 영화   \n",
      "\n"
     ]
    }
   ],
   "source": [
    "### 페이지 한 창의 평점 크롤링\n",
    "\n",
    "for li in lis:  # 각 li 마다 평점과 코멘트 추출\n",
    "    score = li.select_one(\"div.star_score > em\").get_text()   ### 평점 추출\n",
    "    reple = li.select_one(\"div.score_reple > p\").get_text()   ### 리뷰 추출\n",
    "    print('평점 :',  score)\n",
    "    print('리뷰 :', reple, '\\n')"
   ]
  },
  {
   "cell_type": "markdown",
   "metadata": {},
   "source": [
    "### for 문을 사용하여 페이지와 영화종류를 바꿔가며 출력해보자!"
   ]
  },
  {
   "cell_type": "code",
   "execution_count": 4,
   "metadata": {
    "scrolled": true
   },
   "outputs": [
    {
     "name": "stdout",
     "output_type": "stream",
     "text": [
      "### 7년의 밤 : 네이버 영화 ### \n",
      "\n",
      "1  ,  BEST염력도 피하고 골든슬럼버도 피했는데 이걸 못피함   \n",
      "\n",
      "8  ,  BEST배우들의 열연과 몰입도는 좋았지만 2시간 내내 똑같이 하드하기만 해서 힘들었음.. 완급을 주는 시나리오였음 좋았을듯   \n",
      "\n",
      "9  ,  BEST관람객장동건, 류승룡의 연기도 좋았지만 난 송새벽에게 한표 주고 싶음. 제 3자로써 이 이야기를 가장 많이 알고 있는 인물이었기 때문에 더 연기하기가 힘들었을텐데 정말 자연스럽게 잘하더라   \n",
      "\n",
      "8  ,  BEST관람객장동건...연기 소름 오래전 읽었던 정유정 작가의 책을 다시금 펼쳐 읽어야겠다   \n",
      "\n",
      "8  ,  BEST관람객책으로보고기대했는데 생각보다 긴장감도 있고재밌었습니다.   \n",
      "\n",
      "4  ,  7년의밤이 아나라 2시간의밤임 2시간동안 밤처럼앞이 안보임   \n",
      "\n",
      "2  ,  무슨 얘기를 하자는 건지 태어나서 처음 평가한다 답답해서   \n",
      "\n",
      "9  ,  장동건 연기를 이렇게 잘하나 싶었다   \n",
      "\n",
      "10  ,  장동건 원래 연기 잘 했죠.. 작품들이 안 좋아서 그렇지   \n",
      "\n",
      "1  ,  7년 같았던 2시간..   \n",
      "\n",
      "10  ,  관람객세령마을 싱크 최고였어요ㅠ분위기와 배우들 연기로 압도   \n",
      "\n",
      "10  ,  연기 몰입감 최고네 ㅎㄷㄷ;;   \n",
      "\n",
      "9  ,  소설은 읽지 않았지만  연기 출연진 굿   \n",
      "\n",
      "3  ,  오영제 부인은 결국뭐죠? 류승룡 부인은 댐에 쓸려 그냥죽었나요? 뭔 이런내용의 영화를만들수있는지.. 뭘말하자는건지 모르겠네요 아들을 지키기위해 마을사람들을 죽일수밖에 없었던 가장의 부성애? 그나마 장동건 류승룡 연기때문에 3점 드립니다   \n",
      "\n",
      "1  ,  왜 류승룡은 영화가 항상 이렇게 망하는가...   \n",
      "\n",
      "8  ,  관람객약간 아쉽지만 나름좋앗다ㅡ하이라이트인ㅡ댐에서ㅡ두남자의 난투극은 잘찍엇네ㅡcg없이 댐으로ㅡ사다리타고ㅡ올라가는장면을 롱테이크로ㅡ찍은건 압권이엇딘   \n",
      "\n",
      "1  ,  7년동안 다시는 이런 영화 안 봤으면 좋겠네요~~상영시간내내 시계 확인 ㅎㅎ   \n",
      "\n",
      "10  ,  관람객스릴러 드라마 장르만의  긴장감, 몰입감 굿   \n",
      "\n",
      "1  ,  ㅋㅋㅋㅋ아니제가 뭘본거죠 ㅋㅋㅋㅋ   \n",
      "\n",
      "10  ,  관람객조금 아쉽지만, 소설과 영화라는 매체의 차이를 고려했을때 나쁘지않은 각색이라고 생각합니다. 배우들의 묵직한 열연이 좋았어요!   \n",
      "\n",
      "6  ,  내장담하는데 알바로 커버하는것도 한계가있는걸 감안하면 일주일안에 평점 6점대이하간다 가즈아   \n",
      "\n",
      "1  ,  알바들 제대로 풀었네 .. 정말 근 3년 안에 최악의 영화가 네여 ..   \n",
      "\n",
      "10  ,  관람객장동건이 연기를 위해 얼굴을 버렸네 그 열정에 박수!!   \n",
      "\n",
      "10  ,  관람객상상했던 원작 느낌 그대로!!!   \n",
      "\n",
      "10  ,  관람객이래서 가정교육이 중요함..   \n",
      "\n",
      "2  ,  문화의날에반값으로봣는데도 돈아까움   \n",
      "\n",
      "3  ,  어둡고 도무지 뭘애기하고싶는지도 모르겠고 잘모르겠다 확실히 잘봤다 보라고애기는못하겠네   \n",
      "\n",
      "1  ,  역대급 좋아하시네. 살면서 본 영화 중 제일 최악의 영화다. 부성애를 느끼라는거야 동정을 느끼라는거야? 영화 전체가 억지 쥐어짜기.아무리 극박한 설정을 만들어도 긴장감은 커녕 짜증만 남. 어떻게 영화를 이렇게 만들고 개봉을 하고 홍보를 하냐? 양심없다   \n",
      "\n",
      "2  ,  진짜 지루하다 뒷사람이랑 누가 더 하품 많이하나 대결한듯   \n",
      "\n",
      "4  ,  도대체 영화 제목은 왜 7년의 밤인가 ?   \n",
      "\n",
      "1  ,  왠만하면 영화 다 재밌게보는데..남자친구한테 계속 몇시냐고 끝나는시간만 기다리다가 중간에 나왔네요 뭘 의미하는지도모르겠고 반전도없고 돈아까워서 중간에 안나가려했는데 앉아있는 시간이 너무아까워서 나왔네요. 날씨도좋은데 볼시간에 드라이브나 할껄   \n",
      "\n",
      "2  ,  핵노잼 공짜로 보라해도 안봄   \n",
      "\n",
      "2  ,  영화보고 너무 화가나서 태어나서 처음 평가함   \n",
      "\n",
      "1  ,  공부하다가 머리도 식힐겸 오랜만에 영화 봤는데 정말 공부가 영화보다 재밌다는 것을 처음 깨달았습니다.   \n",
      "\n",
      "10  ,  장동건 너무 연기 잘함~ 그동안 얼굴에 가린 연기력이 제대로 나오는 영화   \n",
      "\n",
      "8  ,  사람이 그냥 악해지는게 아님~ 다 이유가 있는법   \n",
      "\n",
      "10  ,  연기력 대박이네요 역시 배우들 클래스   \n",
      "\n",
      "10  ,  장동건.류승룡 연기 짱이고 내용도 괜찮고요   \n",
      "\n",
      "1  ,  영화인 척 하는 개똥이라고 할 수 있다   \n",
      "\n",
      "1  ,  조조로 보고 왔습니다. 소설책 보신 분들은 절대 보시면 안됩니다. 최악입니다. 시간상 어쩔 수 없다지만 개연성이 떨어지고 너무 뻔하게 진행되어 긴장감이라곤 1도 없습니다. 배우들 연기력은 있는데 활용을 못한케이스.. 평점에 낚이지 마세요. 1점줍니다   \n",
      "\n",
      "### 레디 플레이어 원 : 네이버 영화 ### \n",
      "\n",
      "10  ,  BEST스필버그 감독의 작품을 왜 좋아했는지 다시 깨닫게 되는 수작   \n",
      "\n",
      "10  ,  BEST최근 잠시 잊어버렸었지만 스티븐 스필버그는 역시 오락영화 감독이라는 걸 보여준 건재한 한방!   \n",
      "\n",
      "10  ,  BEST꿈티븐 꿈필버그. ㄷㄷ   \n",
      "\n",
      "9  ,  BEST상식대로라면 세월은 사람을 쇠퇴시키지만 어찌된 것인지 스필버그라는 거장은 나이가 들수록 익어간다 그 비결이 무엇인지 궁금할 따름이다   \n",
      "\n",
      "10  ,  BEST스필버그가 아날로그에 선사하는 걸작.   \n",
      "\n",
      "10  ,  미쳤다. 진짜 미쳤다. 아는 케릭터 나올때마다 소름이 돋았다. 특히나 건담이 하늘에서 등장할때  레알로 지릴뻔했다. 등줄기에서부터 쫘르륵 소름이.... 오랜만에 여러번 소름돋게 만든 영화 오지고 지리고 개쩜 팬티 많이 챙겨가셈.   \n",
      "\n",
      "10  ,  방금 조조로 혼자 보고 왔음. 이건 개미친 영화다 인간머리에서 이런 상상이 되나? 상상을 했다고 치자! 역대 최대급 영화임. 꼭 봐야함. 솔직히 말해서 영화 리뷰 첨 달아본다!!!! 꼭 영화관에서 보시길 나중에 티비서 보면서 후회 하지 말고!!!   \n",
      "\n",
      "10  ,  꿈에서 봤는데 꿈같았습니다. 최고의 영화네요   \n",
      "\n",
      "10  ,  야스오 나오면 천만각인데... 그래도 진짜명작이네요   \n",
      "\n",
      "10  ,  이 영화를 보고 확실해진 것이 하나 있다. 10점이 알바일까 1점이 알바일까 헷갈릴때가 많았는데 1점이 알바 확실함 어떻데 이렄 개개개명작에 1점을 때리지? 알바가 아니라면 박약 내지 소시오패스라야 가능한 일   \n",
      "\n",
      "10  ,  스필버그가 어른들에게 주는 선물   \n",
      "\n",
      "5  ,  이모 죽을 때도 안울던놈이...   \n",
      "\n",
      "10  ,  8타임 봄 한마디만함 wow   \n",
      "\n",
      "10  ,  진짜 꼭 보세요...영상의 혁명입니다   \n",
      "\n",
      "10  ,  그저 갓... 그자체.... 내 이름 검색해라 알바아니다...   \n",
      "\n",
      "10  ,  올해 최고의 영화중 하나로 손꼽히지 않을까 감히 예상해봅니다.   \n",
      "\n",
      "10  ,  믿고보는 스티븐 스틸버그   \n",
      "\n",
      "10  ,  스필버그 감독의 연출은 어디까지인가? 만드는 영화마다 대단하다..   \n",
      "\n",
      "10  ,  관람객스티븐스필버그 역시 대단하다   \n",
      "\n",
      "10  ,  관람객퍼스트건담 최고 ㅎㅎㅎㅎ   \n",
      "\n",
      "10  ,  한때 꿈을 꿨었던 사람들과 꿈을 꾸고 있는 사람들에게 주는 최고의 선물. 고마워요, 스필버그 감독님.   \n",
      "\n",
      "10  ,  이런장르 안좋아해서 별로일줄 알ㅇㅆ는데 너무 재밌었습니다 ㅠㅠㅠㅠ 꿈꾸고 온거같고 또 보고싶네요   \n",
      "\n",
      "10  ,  “오레와 간다무니 이쿠”   \n",
      "\n",
      "8  ,  흠... 솔까 초반 20분은 충격이었는데 그뒤로는 점점 유치해지드라. 그래도 그래픽은 ㄹㅇ 혁명인듯.   \n",
      "\n",
      "10  ,  10점 만점에 10점!!! 믿고본다ㅋㅋ 쥬라기 팬으로써 티라노X스필버그 찡해   \n",
      "\n",
      "10  ,  아이맥스 또는 4D로 보세요!   \n",
      "\n",
      "10  ,  왜 스티븐 스필버그인가에 대한 대답   \n",
      "\n",
      "10  ,  와 대박 유명 캐릭터만 40개이상 나옵니다. 어벤져스? 저리가라 임 ㅋ 캐릭터 나올때마다 극장 사람들이 어 저거 뭐뭐다 뭐다뭐다 속닥속닥 심합니다   \n",
      "\n",
      "9  ,  진짜 오락영화로는 재격인 영화입니다. 스토리는 진부한 면이 있지만 그걸 커버치고도 남을 만큼 CG가 좋아요. 그리고 계속해서 사건이 터지다 보니 지루할 틈도 없고 중간중간 아는 캐릭터들이 튀어나와서 찾는 재미도 있어요.괜히 스필버그 감독이 아니네요.   \n",
      "\n",
      "10  ,  아이오아이 재결합하게 해주세요   \n",
      "\n",
      "10  ,  4DX 장난없음  간헐적으로 4DX를  느끼는게 아니라 긴 장면을 오롯이 체험 가능해서 디스이즈 레알 포디구나 확실히 느끼게 됨..숨겨진 캐릭터들 다 몰라도 겁나 재밌음. 그치만 영화 <샤이닝>은 쫌 알고 가시면 좋아요.. 4DX3D예매 성공하세요   \n",
      "\n",
      "10  ,  sf의 인생 혁명은 애니메이션 같은 삶이다.   \n",
      "\n",
      "10  ,  그냥 대충 쥬라기 시리즈로 사골이 나올때까지 울궈먹어도 팬티 갈아입으면서 볼텐데, 레디플레이어원. 이 형님은 매영화 마다 시대를 앞서 관객에게 질문을 던져버리니 준비해간 기저귀가 소용이 없다. 영화 끝나고 나올때 소변줄 꽂고 나왔다. 그래 쌌다.   \n",
      "\n",
      "10  ,  관람객오! 올만에 훌륭하네요포에버 스필버그! ㅜㅜ   \n",
      "\n",
      "10  ,  덕후에,덕후에 의한,덕후를 위한 영화.우리가 서브 컬쳐를 사랑하는 이유   \n",
      "\n",
      "10  ,  이거 진짜 맨처음 아바타 트랜스포머1 아이언맨1 봤을때 느낌임. 말도안되는 영상미랑 각본 후회안합니다 전 네번 볼꺼임   \n",
      "\n",
      "6  ,  Cg엄청난건 인정하지만 진부한 스토리에 진짜 5년동안 왜 안풀렸는지 이해1도 안되는 허술한 미션...물론 진부한 스토리가 그렇듯 기승전결 확실하고 거부감없는이야기로 킬링타임으로 좋은영화...라기엔 cg팀 영혼이 울부짖는 소리가 들릴정도로 cg는 압권   \n",
      "\n",
      "5  ,  게임 좋아하는 내가 중반까지는 그럭저럭 볼만햇는데 후반가서 언제끝나나 시게 두번이나 봄ㅠ 내용이야 뻔해보여서 별기대 없이 봐서 망정... 화려한 그래픽은 볼만함   \n",
      "\n",
      "10  ,  곤지암 알바가 평점테러하고 갔네   \n",
      "\n",
      "7  ,  기대가 너무 컸다...   \n",
      "\n"
     ]
    }
   ],
   "source": [
    "url1 = 'https://movie.naver.com/movie/bi/mi/pointWriteFormList.nhn?code='\n",
    "movies = [85578, 136898]   ### 일단 두개의 영화만 돌릴거임~\n",
    "url2 = '&type=after&isActualPointWriteExecute=false&isMileageSubscriptionAlready=false&isMileageSubscriptionReject=false&page='\n",
    "\n",
    "\n",
    "\n",
    "for i in movies:\n",
    "    num = i\n",
    "    response = req.urlopen('https://movie.naver.com/movie/bi/mi/point.nhn?code='+str(num))   ### 영화제목\n",
    "    soup = BeautifulSoup(response, 'html.parser')   ### 소스 파싱\n",
    "    title =  soup.select_one(\"title\").string   ### 영화 제목 추출(근데 봐서 이건 빼도 될듯...)\n",
    "    print('###', title, '###', '\\n')   ### 젤 첨에 영화 제목 출력\n",
    "    \n",
    "    for j in range(1, 4):   ### 1페이지부터 3페이지까지 돌림\n",
    "        page = j\n",
    "        response = req.urlopen(url1+str(num)+url2+str(page))\n",
    "        soup = BeautifulSoup(response, 'html.parser')\n",
    "        score_result = soup.find('div', class_ = 'score_result')\n",
    "        lis = score_result.find_all('li')   # 리뷰가 담겨있는 각 마디를 잘라 벡터화\n",
    "        \n",
    "        for li in lis:\n",
    "            score = li.select_one(\"div.star_score > em\").get_text()\n",
    "            reple = li.select_one(\"div.score_reple > p\").get_text()\n",
    "            print(score, ' , ', reple, '\\n')   ### 평점, 리뷰 출력"
   ]
  },
  {
   "cell_type": "markdown",
   "metadata": {},
   "source": [
    "### 이제 크롤링한 내용을 텍스트파일로 내보내보자!"
   ]
  },
  {
   "cell_type": "code",
   "execution_count": 13,
   "metadata": {},
   "outputs": [],
   "source": [
    "url1 = 'https://movie.naver.com/movie/bi/mi/pointWriteFormList.nhn?code='\n",
    "movies = [85578, 85579, 99354, 123519, 125494, 134963, 136898, 137008, 137326, 144379, 151728, 153620, 154449, 154598, 158626, 158885, 161242, 165026, 168298, 172454]\n",
    "### 7년의 밤, 신과함께, 지슬, 아가씨, 퍼시빅림, 라라랜드, 레디플레이어원, 리얼, 블랙팬서, 러빙빈센트, \n",
    "### 코코, 치인트, 리틀포레스트, 그레이50, 셰잎옾워터, 콜미바이유어네임, 범죄도시, 사라진밤, 지금만나러갑니다, 곤지암\n",
    "url2 = '&type=after&isActualPointWriteExecute=false&isMileageSubscriptionAlready=false&isMileageSubscriptionReject=false&page='\n",
    "\n",
    "\n",
    "for i in movies:\n",
    "    f = open('Movie_'+str(i)+'.txt', 'w')   ### 영화 한개 마다 txt 파일로 저장\n",
    "    num = i\n",
    "    response = req.urlopen('https://movie.naver.com/movie/bi/mi/point.nhn?code='+str(num))\n",
    "    soup = BeautifulSoup(response, 'html.parser')\n",
    "    title = soup.select_one(\"title\").string\n",
    "    f.write('### '+title+' ###'+'\\n\\n')   ### 영화 제목 출력\n",
    "    \n",
    "    response = req.urlopen(url1+str(num)+url2+'1')   ### 댓글창 개수를 뽑아내보자\n",
    "    soup = BeautifulSoup(response, 'html.parser')    ### 소스 파싱\n",
    "    score_total = soup.find('div', class_ = 'score_total')    ### 평점 개수 나타난 곳 추출\n",
    "    limit = score_total.find_all('em')[1]   ### 평점 개수 추출\n",
    "    page_limit = int(limit.string.replace(',', ''))/10   ### 숫자형식으로 바꿔서 10으로 나눠줌\n",
    "    page_limit = math.ceil(page_limit)   ### 소숫점 올림\n",
    "\n",
    "    for j in range(1, page_limit):\n",
    "        page = j\n",
    "        response = req.urlopen(url1+str(num)+url2+str(page))\n",
    "        soup = BeautifulSoup(response, 'html.parser')\n",
    "        score_result = soup.find('div', class_ = 'score_result')\n",
    "        lis = score_result.find_all('li')   # 리뷰가 담겨있는 각 마디를 잘라 벡터화\n",
    "        \n",
    "        for li in lis:\n",
    "            score = li.select_one(\"div.star_score > em\").get_text()\n",
    "            reple = li.select_one(\"div.score_reple > p\").get_text()\n",
    "            f.write(score+' , '+reple+'\\n')   ### 평점, 리뷰 출력\n",
    "    f.close   ### 텍스트 입력 종료"
   ]
  },
  {
   "cell_type": "markdown",
   "metadata": {},
   "source": [
    "### 대략 2시간동안 22만개 출력  (1분에 2000개 꼴..)"
   ]
  },
  {
   "cell_type": "code",
   "execution_count": null,
   "metadata": {},
   "outputs": [],
   "source": []
  }
 ],
 "metadata": {
  "kernelspec": {
   "display_name": "Python 3",
   "language": "python",
   "name": "python3"
  },
  "language_info": {
   "codemirror_mode": {
    "name": "ipython",
    "version": 3
   },
   "file_extension": ".py",
   "mimetype": "text/x-python",
   "name": "python",
   "nbconvert_exporter": "python",
   "pygments_lexer": "ipython3",
   "version": "3.6.4"
  }
 },
 "nbformat": 4,
 "nbformat_minor": 2
}
