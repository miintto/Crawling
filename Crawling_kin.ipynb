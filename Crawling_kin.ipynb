{
 "cells": [
  {
   "cell_type": "markdown",
   "metadata": {},
   "source": [
    "# 네이버 지식인 질문 Crawling by 민또"
   ]
  },
  {
   "cell_type": "markdown",
   "metadata": {},
   "source": [
    "### 영화 평점에 비해 비교적 단순한 구조"
   ]
  },
  {
   "cell_type": "code",
   "execution_count": 35,
   "metadata": {},
   "outputs": [],
   "source": [
    "from bs4 import BeautifulSoup\n",
    "import urllib.request as req"
   ]
  },
  {
   "cell_type": "code",
   "execution_count": null,
   "metadata": {},
   "outputs": [],
   "source": [
    "url = 'http://kin.naver.com/best/listaha.nhn?page='   ### url 뒤에 번호 붙여가며 page 넘긴다. max = 943\n",
    "\n",
    "f = open('Question.txt', 'w')\n",
    "for j in range(1, 944):\n",
    "    num = j\n",
    "    response = req.urlopen(url+str(num))   ### 소스코드\n",
    "    soup = BeautifulSoup(response, 'html.parser')   ### 소스 파싱\n",
    "    trs = soup.find_all('tr')   ### 질문 간격마다 끊어줌\n",
    "    \n",
    "    for i in range(1, 21):\n",
    "        f.write(trs[i].select_one(\"a\").string+'\\n')   ### 질문 입력\n",
    "f.close"
   ]
  },
  {
   "cell_type": "markdown",
   "metadata": {},
   "source": [
    "### 1분당 6000개 정도.."
   ]
  }
 ],
 "metadata": {
  "kernelspec": {
   "display_name": "Python 3",
   "language": "python",
   "name": "python3"
  },
  "language_info": {
   "codemirror_mode": {
    "name": "ipython",
    "version": 3
   },
   "file_extension": ".py",
   "mimetype": "text/x-python",
   "name": "python",
   "nbconvert_exporter": "python",
   "pygments_lexer": "ipython3",
   "version": "3.6.4"
  }
 },
 "nbformat": 4,
 "nbformat_minor": 2
}
