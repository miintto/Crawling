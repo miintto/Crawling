{
 "cells": [
  {
   "cell_type": "code",
   "execution_count": 2,
   "metadata": {},
   "outputs": [],
   "source": [
    "from bs4 import BeautifulSoup\n",
    "import urllib.request as req"
   ]
  },
  {
   "cell_type": "code",
   "execution_count": 16,
   "metadata": {},
   "outputs": [
    {
     "name": "stdout",
     "output_type": "stream",
     "text": [
      "<http.client.HTTPResponse object at 0x7fe538091c50>\n"
     ]
    }
   ],
   "source": [
    "url1 = 'view-source:http://kin.naver.com/qna/questionList.nhn'\n",
    "num1 = 201\n",
    "num2 = 32\n",
    "url2 = '&docId='\n",
    "num3 = 298207595\n",
    "\n",
    "\n",
    "\n",
    "response = req.urlopen(url1+str(num1)+str(num2)+url2+str(num3))\n",
    "print(response)"
   ]
  },
  {
   "cell_type": "code",
   "execution_count": 17,
   "metadata": {},
   "outputs": [],
   "source": [
    "soup = BeautifulSoup(response, 'html.parser')   #추출"
   ]
  },
  {
   "cell_type": "code",
   "execution_count": 18,
   "metadata": {},
   "outputs": [
    {
     "name": "stdout",
     "output_type": "stream",
     "text": [
      "\n",
      "\t롤 20레벨인데 일반겜 즐기시는분들 대리육성좀 해주세여 ㅠㅠ : 지식iN\n",
      "\n"
     ]
    }
   ],
   "source": [
    "title= soup.select_one(\"title\").string\n",
    "print(title)"
   ]
  },
  {
   "cell_type": "code",
   "execution_count": null,
   "metadata": {},
   "outputs": [],
   "source": [
    "http://kin.naver.com/qna/questionList.nhn#\n",
    "    http://kin.naver.com/qna/questionList.nhn#"
   ]
  }
 ],
 "metadata": {
  "kernelspec": {
   "display_name": "Python 3",
   "language": "python",
   "name": "python3"
  },
  "language_info": {
   "codemirror_mode": {
    "name": "ipython",
    "version": 3
   },
   "file_extension": ".py",
   "mimetype": "text/x-python",
   "name": "python",
   "nbconvert_exporter": "python",
   "pygments_lexer": "ipython3",
   "version": "3.6.4"
  }
 },
 "nbformat": 4,
 "nbformat_minor": 2
}
